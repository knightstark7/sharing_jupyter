{
 "cells": [
  {
   "cell_type": "markdown",
   "metadata": {},
   "source": [
    "<center>\n",
    "    <img src=\"https://cf-courses-data.s3.us.cloud-object-storage.appdomain.cloud/IBMDeveloperSkillsNetwork-DS0105EN-SkillsNetwork/labs/Module2/images/SN_web_lightmode.png\" width=\"300\" alt=\"cognitiveclass.ai logo\">\n",
    "</center>\n"
   ]
  },
  {
   "cell_type": "markdown",
   "metadata": {},
   "source": [
    "#### Add your code below following the instructions given in the course\n"
   ]
  },
  {
   "cell_type": "markdown",
   "metadata": {},
   "source": [
    "<strong>Create a new Jupyter notebook called DataScienceEcosystem.ipynb </strong>"
   ]
  },
  {
   "cell_type": "markdown",
   "metadata": {},
   "source": [
    "<strong>Exercise 2 - Create a markdown cell with the title of the notebook.</strong>"
   ]
  },
  {
   "cell_type": "markdown",
   "metadata": {
    "tags": []
   },
   "source": [
    "<h1>Data Science Tools and Ecosystem</h1>"
   ]
  },
  {
   "cell_type": "markdown",
   "metadata": {
    "tags": []
   },
   "source": [
    "<strong>Exercise 3 - Create a markdown cell for an introduction.</strong>"
   ]
  },
  {
   "cell_type": "markdown",
   "metadata": {
    "tags": []
   },
   "source": [
    "<p>In this notebook, Data Science Tools and Ecosystem are summarized.<p>"
   ]
  },
  {
   "cell_type": "markdown",
   "metadata": {},
   "source": [
    "<strong>Exercise 4 - Create a markdown cell to list data science languages.</strong>"
   ]
  },
  {
   "cell_type": "markdown",
   "metadata": {},
   "source": [
    "Some of the popular languages that Data Scientists use are:\n",
    "<ol>\n",
    "    <li>Python.</li>\n",
    "    <li>R.</li>\n",
    "    <li>SQL.</li>\n",
    "    <li>Java.</li>\n",
    "    <li>Julia.</li>\n",
    "    <li>Scala.</li>\n",
    "    <li>C/C++.</li>\n",
    "    <li>JavaScript.</li>\n",
    "</ol>"
   ]
  },
  {
   "cell_type": "markdown",
   "metadata": {},
   "source": [
    "<strong>Exercise 5 - Create a markdown cell to list data science libraries.</strong>"
   ]
  },
  {
   "cell_type": "markdown",
   "metadata": {},
   "source": [
    "Some of the commonly used libraries used by Data Scientists include:\n",
    "<ol>\n",
    "    <li>TensorFlow.</li>\n",
    "    <li>NumPy.</li>\n",
    "    <li>SciPy.</li>\n",
    "    <li>Pandas.</li>\n",
    "    <li>Matplotlib.</li>\n",
    "    <li>Keras.</li>\n",
    "    <li>SciKit-Learn.</li>\n",
    "    <li>PyTorch.</li>\n",
    "    <li>Scrapy.</li>\n",
    "    <li>BeautifulSoup.</li>\n",
    "    <li>LightGBM.</li>\n",
    "    <li>ELI5.</li>\n",
    "    <li>Theano.</li>\n",
    "    <li>NuPIC.</li>\n",
    "    <li>Ramp.</li>\n",
    "    <li>Pipenv.</li>\n",
    "    <li>Bob.</li>\n",
    "    <li>PyBrain.</li>\n",
    "    <li>Caffe2.</li>\n",
    "    <li>Chainer.</li>\n",
    "</ol>"
   ]
  },
  {
   "cell_type": "markdown",
   "metadata": {},
   "source": [
    "<strong>Exercise 6 - Create a markdown cell with a table of Data Science tools.</strong>"
   ]
  },
  {
   "cell_type": "markdown",
   "metadata": {},
   "source": [
    "Data Science Tools:\n",
    "\n",
    "<table style=\"width:100%\">\n",
    "  <tr>\n",
    "    <th>Data Science Tools</th>\n",
    "    <th></th>\n",
    "    <th></th>\n",
    "  </tr>\n",
    "  <tr>\n",
    "    <td>SAS. It is one of those data science tools which are specifically designed for statistical operation</td>\n",
    "    <td></td>\n",
    "    <td></td>\n",
    "  </tr>\n",
    "  <tr>\n",
    "    <td>Apache Spark</td>\n",
    "    <td></td>\n",
    "    <td></td>\n",
    "  </tr>\n",
    "  <tr>\n",
    "    <td>BigML</td>\n",
    "    <td></td>\n",
    "    <td></td>\n",
    "  </tr>\n",
    "</table>"
   ]
  },
  {
   "cell_type": "markdown",
   "metadata": {},
   "source": [
    "<strong>Exercise 7 - Create a markdown cell introducing arithmetic expression examples.</strong>"
   ]
  },
  {
   "cell_type": "markdown",
   "metadata": {},
   "source": [
    "<h3>Below are a few examples of evaluating arithmetic expressions in Python</h3>"
   ]
  },
  {
   "cell_type": "code",
   "execution_count": 6,
   "metadata": {
    "tags": []
   },
   "outputs": [
    {
     "data": {
      "text/plain": [
       "17"
      ]
     },
     "execution_count": 6,
     "metadata": {},
     "output_type": "execute_result"
    }
   ],
   "source": [
    "#This a simple arithmetic expression to mutiply then add integers\n",
    "(3*4)+5"
   ]
  },
  {
   "cell_type": "code",
   "execution_count": 8,
   "metadata": {
    "tags": []
   },
   "outputs": [
    {
     "data": {
      "text/plain": [
       "3.3333333333333335"
      ]
     },
     "execution_count": 8,
     "metadata": {},
     "output_type": "execute_result"
    }
   ],
   "source": [
    "# This will convert 200 minutes to hours by dividing by 60.\n",
    "hours = 200 / 60\n",
    "hours"
   ]
  },
  {
   "cell_type": "markdown",
   "metadata": {},
   "source": [
    "<strong>Exercise 10 -Insert a markdown cell to list Objectives.</strong>"
   ]
  },
  {
   "cell_type": "markdown",
   "metadata": {},
   "source": [
    "<strong>Objectives:</strong>\n",
    "<ul>\n",
    "    <li>List popular languages that Data Scientists use.</li>\n",
    "    <li>List commonly used libraries used by Data Scientists.</li>\n",
    "    <li>Comment on Data Science tools.</li>\n",
    "</ul>\n",
    "    "
   ]
  },
  {
   "cell_type": "markdown",
   "metadata": {},
   "source": [
    "<strong>Exercise 11 - Create a markdown cell to indicate the Author’s name.</strong>"
   ]
  },
  {
   "cell_type": "markdown",
   "metadata": {},
   "source": [
    "<h2>Author:</h2> \n",
    "Lakshmi Holla\n",
    "\n",
    "Niveditha Pandith"
   ]
  },
  {
   "cell_type": "code",
   "execution_count": null,
   "metadata": {},
   "outputs": [],
   "source": []
  }
 ],
 "metadata": {
  "kernelspec": {
   "display_name": "Python",
   "language": "python",
   "name": "conda-env-python-py"
  },
  "language_info": {
   "codemirror_mode": {
    "name": "ipython",
    "version": 3
   },
   "file_extension": ".py",
   "mimetype": "text/x-python",
   "name": "python",
   "nbconvert_exporter": "python",
   "pygments_lexer": "ipython3",
   "version": "3.7.12"
  }
 },
 "nbformat": 4,
 "nbformat_minor": 4
}
